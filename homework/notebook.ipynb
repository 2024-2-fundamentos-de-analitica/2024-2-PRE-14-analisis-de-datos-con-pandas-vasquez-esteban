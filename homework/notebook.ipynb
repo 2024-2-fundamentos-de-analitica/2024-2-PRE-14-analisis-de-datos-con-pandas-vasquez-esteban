{
 "cells": [
  {
   "cell_type": "code",
   "execution_count": 1,
   "metadata": {},
   "outputs": [
    {
     "name": "stdout",
     "output_type": "stream",
     "text": [
      "<class 'pandas.core.frame.DataFrame'>\n",
      "RangeIndex: 99999 entries, 0 to 99998\n",
      "Data columns (total 29 columns):\n",
      " #   Column             Non-Null Count  Dtype  \n",
      "---  ------             --------------  -----  \n",
      " 0   Year               99999 non-null  int64  \n",
      " 1   Month              99999 non-null  int64  \n",
      " 2   DayofMonth         99999 non-null  int64  \n",
      " 3   DayOfWeek          99999 non-null  int64  \n",
      " 4   DepTime            98857 non-null  float64\n",
      " 5   CRSDepTime         99999 non-null  int64  \n",
      " 6   ArrTime            98697 non-null  float64\n",
      " 7   CRSArrTime         99999 non-null  int64  \n",
      " 8   UniqueCarrier      99999 non-null  object \n",
      " 9   FlightNum          99999 non-null  int64  \n",
      " 10  TailNum            98857 non-null  object \n",
      " 11  ActualElapsedTime  98697 non-null  float64\n",
      " 12  CRSElapsedTime     99999 non-null  int64  \n",
      " 13  AirTime            98697 non-null  float64\n",
      " 14  ArrDelay           98697 non-null  float64\n",
      " 15  DepDelay           98857 non-null  float64\n",
      " 16  Origin             99999 non-null  object \n",
      " 17  Dest               99999 non-null  object \n",
      " 18  Distance           99999 non-null  int64  \n",
      " 19  TaxiIn             98697 non-null  float64\n",
      " 20  TaxiOut            98857 non-null  float64\n",
      " 21  Cancelled          99999 non-null  int64  \n",
      " 22  CancellationCode   1142 non-null   object \n",
      " 23  Diverted           99999 non-null  int64  \n",
      " 24  CarrierDelay       19629 non-null  float64\n",
      " 25  WeatherDelay       19629 non-null  float64\n",
      " 26  NASDelay           19629 non-null  float64\n",
      " 27  SecurityDelay      19629 non-null  float64\n",
      " 28  LateAircraftDelay  19629 non-null  float64\n",
      "dtypes: float64(13), int64(11), object(5)\n",
      "memory usage: 22.1+ MB\n"
     ]
    },
    {
     "data": {
      "text/plain": [
       "          Year    Month    DayofMonth     DayOfWeek       DepTime  \\\n",
       "count  99999.0  99999.0  99999.000000  99999.000000  98857.000000   \n",
       "mean    2008.0      1.0     17.087741      3.890059   1355.194827   \n",
       "std        0.0      0.0      8.356321      1.953000    464.088277   \n",
       "min     2008.0      1.0      1.000000      1.000000      1.000000   \n",
       "25%     2008.0      1.0     10.000000      2.000000    942.000000   \n",
       "50%     2008.0      1.0     17.000000      4.000000   1344.000000   \n",
       "75%     2008.0      1.0     24.000000      5.000000   1743.000000   \n",
       "max     2008.0      1.0     31.000000      7.000000   2359.000000   \n",
       "\n",
       "         CRSDepTime       ArrTime    CRSArrTime     FlightNum  \\\n",
       "count  99999.000000  98697.000000  99999.000000  99999.000000   \n",
       "mean    1341.983470   1492.730964   1502.593996   1510.586886   \n",
       "std      451.355345    496.372525    478.096654   1185.974280   \n",
       "min      600.000000      1.000000      5.000000      1.000000   \n",
       "25%      940.000000   1114.000000   1120.000000    502.000000   \n",
       "50%     1335.000000   1518.000000   1520.000000   1320.000000   \n",
       "75%     1730.000000   1913.000000   1910.000000   2362.000000   \n",
       "max     2235.000000   2400.000000   2355.000000   7676.000000   \n",
       "\n",
       "       ActualElapsedTime  ...      Distance       TaxiIn       TaxiOut  \\\n",
       "count       98697.000000  ...  99999.000000  98697.00000  98857.000000   \n",
       "mean          107.558072  ...    630.583966      4.76896     10.927461   \n",
       "std            55.351086  ...    437.358628      2.98365      5.988846   \n",
       "min            25.000000  ...     66.000000      1.00000      1.000000   \n",
       "25%            68.000000  ...    324.000000      3.00000      8.000000   \n",
       "50%            88.000000  ...    453.000000      4.00000      9.000000   \n",
       "75%           135.000000  ...    843.000000      5.00000     12.000000   \n",
       "max           382.000000  ...   2363.000000    213.00000    150.000000   \n",
       "\n",
       "          Cancelled      Diverted  CarrierDelay  WeatherDelay      NASDelay  \\\n",
       "count  99999.000000  99999.000000  19629.000000  19629.000000  19629.000000   \n",
       "mean       0.011420      0.001600      9.573488      2.036120      8.353151   \n",
       "std        0.106254      0.039968     21.836836     13.815868     18.826087   \n",
       "min        0.000000      0.000000      0.000000      0.000000      0.000000   \n",
       "25%        0.000000      0.000000      0.000000      0.000000      0.000000   \n",
       "50%        0.000000      0.000000      1.000000      0.000000      0.000000   \n",
       "75%        0.000000      0.000000     11.000000      0.000000     10.000000   \n",
       "max        1.000000      1.000000    431.000000    267.000000    366.000000   \n",
       "\n",
       "       SecurityDelay  LateAircraftDelay  \n",
       "count   19629.000000       19629.000000  \n",
       "mean        0.110805          29.343675  \n",
       "std         1.724888          39.753529  \n",
       "min         0.000000           0.000000  \n",
       "25%         0.000000           1.000000  \n",
       "50%         0.000000          18.000000  \n",
       "75%         0.000000          37.000000  \n",
       "max        88.000000         434.000000  \n",
       "\n",
       "[8 rows x 24 columns]"
      ]
     },
     "execution_count": 1,
     "metadata": {},
     "output_type": "execute_result"
    }
   ],
   "source": [
    "# Carga de datos\n",
    "import pandas as pd  #  type: ignore\n",
    "\n",
    "pd.set_option(\"display.notebook_repr_html\", False)\n",
    "\n",
    "flights = pd.read_csv(\n",
    "    \"https://raw.githubusercontent.com/jdvelasq/playground/master/datasets/flights.csv\",\n",
    "    sep=\",\",\n",
    "    thousands=None,\n",
    "    decimal=\".\",\n",
    ")\n",
    "\n",
    "flights.info()\n",
    "\n",
    "\n",
    "# Estadísticos de las columnas numéricas\n",
    "flights.describe()"
   ]
  },
  {
   "cell_type": "code",
   "execution_count": 2,
   "metadata": {},
   "outputs": [
    {
     "data": {
      "text/plain": [
       "99999"
      ]
     },
     "execution_count": 2,
     "metadata": {},
     "output_type": "execute_result"
    }
   ],
   "source": [
    "# Cómputo del total de registros de la tabla\n",
    "numTotalFlights = len(flights)\n",
    "numTotalFlights"
   ]
  },
  {
   "cell_type": "code",
   "execution_count": 3,
   "metadata": {},
   "outputs": [
    {
     "name": "stdout",
     "output_type": "stream",
     "text": [
      "Porcentaje de vuelos retrasados: 19.59%\n"
     ]
    }
   ],
   "source": [
    "# Filtrado de registros para vuelos retrasados\n",
    "# Un vuelo con un retraso mayor a 15 minutos se considera retrasado\n",
    "# (columna DepDelay).\n",
    "delayedFlights = flights[flights[\"DepDelay\"] > 15][[\"UniqueCarrier\", \"DepDelay\"]]\n",
    "delayedFlights.head(5)\n",
    "\n",
    "\n",
    "# Cálculo del porcentaje de vuelos retrasados\n",
    "numDelayedFlights = len(delayedFlights)\n",
    "print(\n",
    "    \"Porcentaje de vuelos retrasados: \"\n",
    "    + str(round(numDelayedFlights / numTotalFlights * 100, 2))\n",
    "    + \"%\"\n",
    ")"
   ]
  },
  {
   "cell_type": "code",
   "execution_count": 4,
   "metadata": {},
   "outputs": [
    {
     "data": {
      "text/plain": [
       "np.int64(1142)"
      ]
     },
     "execution_count": 4,
     "metadata": {},
     "output_type": "execute_result"
    }
   ],
   "source": [
    "# Copia de una tabla y copia de columnas\n",
    "flightsWithDelays = flights[\n",
    "    [\n",
    "        \"Year\",\n",
    "        \"Month\",\n",
    "        \"DayofMonth\",\n",
    "        \"UniqueCarrier\",\n",
    "        \"FlightNum\",\n",
    "        \"DepDelay\",\n",
    "    ]\n",
    "].copy()\n",
    "\n",
    "flightsWithDelays[\"IsDelayed\"] = flightsWithDelays[\"DepDelay\"].copy()\n",
    "\n",
    "\n",
    "# Conteo de registros nulos en una columna\n",
    "flightsWithDelays.IsDelayed.isna().sum()"
   ]
  },
  {
   "cell_type": "code",
   "execution_count": 8,
   "metadata": {},
   "outputs": [
    {
     "ename": "SyntaxError",
     "evalue": "incomplete input (1848761128.py, line 17)",
     "output_type": "error",
     "traceback": [
      "\u001b[0;36m  Cell \u001b[0;32mIn[8], line 17\u001b[0;36m\u001b[0m\n\u001b[0;31m    )\u001b[0m\n\u001b[0m     ^\u001b[0m\n\u001b[0;31mSyntaxError\u001b[0m\u001b[0;31m:\u001b[0m incomplete input\n"
     ]
    }
   ],
   "source": [
    "# Aplicación de una función a una columna\n",
    "flightsWithDelays[\"IsDelayed\"] = flightsWithDelays[\"IsDelayed\"].map(\n",
    "    lambda x: 0 if pd.isna(x) else x\n",
    ")\n",
    "flightsWithDelays[\"IsDelayed\"] = flightsWithDelays[\"IsDelayed\"].map(\n",
    "    lambda x: 1 if x > 15 else 0\n",
    ")\n",
    "\n",
    "flightsWithDelays[[\"DepDelay\", \"IsDelayed\"]].head(10)\n",
    "\n",
    "\n",
    "\n",
    "# Cálculo del porcentaje de vuelos retrasados\n",
    "print(\n",
    "    \"Porcentaje de vuelos retrasados: {:4.2f} %\".format(\n",
    "        100 * flightsWithDelays.IsDelayed.sum() / flightsWithDelays.DepDelay.count())"
   ]
  },
  {
   "cell_type": "code",
   "execution_count": null,
   "metadata": {},
   "outputs": [],
   "source": []
  }
 ],
 "metadata": {
  "kernelspec": {
   "display_name": ".venv",
   "language": "python",
   "name": "python3"
  },
  "language_info": {
   "codemirror_mode": {
    "name": "ipython",
    "version": 3
   },
   "file_extension": ".py",
   "mimetype": "text/x-python",
   "name": "python",
   "nbconvert_exporter": "python",
   "pygments_lexer": "ipython3",
   "version": "3.12.3"
  }
 },
 "nbformat": 4,
 "nbformat_minor": 2
}
